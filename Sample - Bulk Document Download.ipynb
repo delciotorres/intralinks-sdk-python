{
 "cells": [
  {
   "cell_type": "markdown",
   "metadata": {},
   "source": [
    "For Educational Purpose Only\n",
    "\n",
    "# Bulk Document Download"
   ]
  },
  {
   "cell_type": "raw",
   "metadata": {},
   "source": [
    "\"\"\"\n",
    "For educational purpose only\n",
    "\n",
    "On Windows: Launch cmd, go to the root folder of this project\n",
    "On Mac: Launch the terminal, go to the root folder of this project\n",
    "Then type: python -m intralinks.samples.bulk_document_download.launcher_v1\n",
    "\"\"\"\n",
    "\n",
    "import os\n",
    "import intralinks\n",
    "import intralinks.utils\n",
    "import intralinks.samples.utils.user_input\n",
    "import intralinks.samples.utils.excel\n",
    "\n",
    "def bulk_download(il, exchange_id, root_folder):\n",
    "    splash = il.get_splash(exchange_id)\n",
    "    state = il.enter_exchange(exchange_id, accept_splash=True)\n",
    "    \n",
    "    if state != 'ALLOW':\n",
    "        raise Exception('Not allowed to enter the exchange: {}'.format(state))\n",
    "    \n",
    "    print('Retrieving documents and folders for exchange #{}'.format(exchange_id))\n",
    "    folders = il.get_folders(exchange_id)\n",
    "    documents = il.get_documents(exchange_id)\n",
    "    intralinks.utils.build_paths(folders, documents)\n",
    "    \n",
    "    for document in documents:\n",
    "        print('Downloading {}'.format('/'.join(document['names']) + document.get('extension', '')))\n",
    "        \n",
    "        folder_path = os.path.join(root_folder, *document['names'][0:-1])\n",
    "        \n",
    "        if not os.path.exists(folder_path):\n",
    "            os.makedirs(folder_path)\n",
    "        \n",
    "        il.download_file(exchange_id, document['id'], os.path.join(folder_path, document['name'] + document.get('extension', '')))\n",
    "\n",
    "if __name__ == '__main__':\n",
    "    user_input = intralinks.samples.utils.user_input.UserInput(\n",
    "        description='', \n",
    "        multiple_exchanges=True, \n",
    "        output_folder=True\n",
    "    )\n",
    "    \n",
    "    il = user_input.init_session()\n",
    "    exchanges = user_input.init_exchanges()\n",
    "    \n",
    "    # Does not support downloading document protectdd with the online viewer\n",
    "    #  raise Exception(response.url, response.status_code, response.text)\n",
    "    # Exception: ('https://api.intralinks.com/v2/workspaces/938575/documents/4714546878/file', 500, \"<?xml version='1.0' encoding='UTF-8'?><xmlResponse><status><code>500</code><errorId>4391cf43-a1c4-4d3f-9139-2ca21c853b33-1513549628249</errorId><message>An unexpected exception was thrown from the application. If the problem persists please contact\n",
    "    # IntraLinks Support for more information and provide the error id.</message><subcode>999</subcode></status><errors><error><code>500</code><message>An unexpected exception was thrown from the application. If the problem persists please contact IntraLinks Support for more information and provide the error id.</message><subCode>999</subCode></error></errors></xmlResponse>\")\n",
    "\n",
    "    for exchange in exchanges:\n",
    "        bulk_download(il, exchange['id'], user_input.data.output_folder)\n",
    "    \n",
    "    user_input.end_session()"
   ]
  },
  {
   "cell_type": "code",
   "execution_count": null,
   "metadata": {},
   "outputs": [],
   "source": [
    "import pandas as pd\n",
    "import intralinks\n",
    "import intralinks.tools.login_manager\n",
    "\n",
    "il = intralinks.IntralinksClient()\n",
    "\n",
    "login_manager = intralinks.tools.login_manager.LoginManager(il)\n",
    "\n",
    "ui = intralinks.tools.login_manager.LoginManagerUI(login_manager)\n",
    "\n",
    "ui.login_panel()"
   ]
  }
 ],
 "metadata": {
  "kernelspec": {
   "display_name": "Python 3",
   "language": "python",
   "name": "python3"
  },
  "language_info": {
   "codemirror_mode": {
    "name": "ipython",
    "version": 3
   },
   "file_extension": ".py",
   "mimetype": "text/x-python",
   "name": "python",
   "nbconvert_exporter": "python",
   "pygments_lexer": "ipython3",
   "version": "3.6.6"
  }
 },
 "nbformat": 4,
 "nbformat_minor": 2
}
